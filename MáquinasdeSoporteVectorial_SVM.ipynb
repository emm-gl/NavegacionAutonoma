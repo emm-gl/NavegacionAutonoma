{
  "nbformat": 4,
  "nbformat_minor": 0,
  "metadata": {
    "colab": {
      "provenance": []
    },
    "kernelspec": {
      "name": "python3",
      "display_name": "Python 3"
    },
    "language_info": {
      "name": "python"
    }
  },
  "cells": [
    {
      "cell_type": "code",
      "execution_count": 21,
      "metadata": {
        "id": "D_rSlV5yUWRZ"
      },
      "outputs": [],
      "source": [
        "#Se cargan las bibliotecas necesarias 4\n",
        "import pandas as pd\n",
        "import numpy as np\n",
        "import matplotlib.pyplot as plt\n",
        "import seaborn as sns\n",
        "import cv2\n",
        "from skimage. feature import hog\n",
        "import matplotlib.image as mpimg\n",
        "\n"
      ]
    },
    {
      "cell_type": "code",
      "source": [
        "import glob\n",
        "\n",
        "pedestrian = glob.glob(\"data_svm/Pedestrian/*.jpg\")\n",
        "no_pedestrian= glob.glob(\"data_svm/nonPedestrian/*.jpg\")"
      ],
      "metadata": {
        "id": "o_u2mQRubObN"
      },
      "execution_count": 18,
      "outputs": []
    },
    {
      "cell_type": "code",
      "source": [
        "len(pedestrian)\n"
      ],
      "metadata": {
        "colab": {
          "base_uri": "https://localhost:8080/"
        },
        "id": "366g1loSb9H8",
        "outputId": "d203f576-8966-41c6-db66-0502c90669dd"
      },
      "execution_count": 19,
      "outputs": [
        {
          "output_type": "execute_result",
          "data": {
            "text/plain": [
              "0"
            ]
          },
          "metadata": {},
          "execution_count": 19
        }
      ]
    },
    {
      "cell_type": "code",
      "source": [
        "len(no_pedestrian)"
      ],
      "metadata": {
        "colab": {
          "base_uri": "https://localhost:8080/"
        },
        "id": "E9m9BpYAcMC-",
        "outputId": "e6dea4fc-b276-42ab-a943-6b16b5a4551d"
      },
      "execution_count": 20,
      "outputs": [
        {
          "output_type": "execute_result",
          "data": {
            "text/plain": [
              "0"
            ]
          },
          "metadata": {},
          "execution_count": 20
        }
      ]
    },
    {
      "cell_type": "code",
      "source": [
        "#Se muestra imagen con un peaton\n",
        "img_color= cv2.imread(pedestrian[10])\n",
        "plt.imshow(img_color)"
      ],
      "metadata": {
        "id": "m4gN3BTud42r"
      },
      "execution_count": null,
      "outputs": []
    },
    {
      "cell_type": "code",
      "source": [
        "img_gray = cv2.cvtColor(img_color,cv2.COLOR_BAYER_BG2GRAY)\n",
        "plt.imshow(img_gray,cmap =\"gray\")"
      ],
      "metadata": {
        "id": "7bBkXWT1eVQ3"
      },
      "execution_count": null,
      "outputs": []
    },
    {
      "cell_type": "code",
      "source": [
        "features,hog_img = hog(img_gray,\n",
        "                       orientations =11,\n",
        "                       pixels_per_cell= (16,16),\n",
        "                       cells_per_block=(2,2),\n",
        "                       transform_sqrt= False,\n",
        "                       visualize = True,\n",
        "                       feature_vector= True)\n",
        "                      "
      ],
      "metadata": {
        "id": "ol-67bHGex9d"
      },
      "execution_count": null,
      "outputs": []
    },
    {
      "cell_type": "code",
      "source": [
        "features.shape"
      ],
      "metadata": {
        "id": "GCTWIXpEgp5m"
      },
      "execution_count": null,
      "outputs": []
    },
    {
      "cell_type": "code",
      "source": [
        "hog_img.shape"
      ],
      "metadata": {
        "id": "Fymmz5fGgwJ9"
      },
      "execution_count": null,
      "outputs": []
    },
    {
      "cell_type": "code",
      "source": [
        "plt.imShow(hog_img,cmap = 'gray')"
      ],
      "metadata": {
        "id": "PML8wlJHgyWs"
      },
      "execution_count": null,
      "outputs": []
    },
    {
      "cell_type": "code",
      "source": [
        "pedestrian_hog_accum = []\n",
        "\n",
        "for i  in pedestrian:\n",
        "  img_color = mpimg.imread(i)\n",
        "  img_gray = cv2.cvtColor(img_color,cv2.COLOR_BAYER_BG2GRAY)\n",
        "\n",
        "  pedestrian_hog_feature,pedestrian_hog_img  = hog(img_gray,\n",
        "                                              orientations =11,\n",
        "                                              pixels_per_cell= (16,16),\n",
        "                                              cells_per_block=(2,2),\n",
        "                                              transform_sqrt= False,\n",
        "                                              visualize = True,\n",
        "                                              feature_vector= True)\n",
        "\n",
        "  pedestrian_hog_accum. append (pedestrian_hog_feature)"
      ],
      "metadata": {
        "id": "DH6cUTBKg5MB"
      },
      "execution_count": null,
      "outputs": []
    },
    {
      "cell_type": "code",
      "source": [
        "X_pedestrian = np.vstack(pedestrian_hog_accum).astype(np.float64)\n",
        "Y_pedestrian = np.ones(len(X_pedestrian))"
      ],
      "metadata": {
        "id": "bRPgA6h7ie53"
      },
      "execution_count": null,
      "outputs": []
    },
    {
      "cell_type": "code",
      "source": [
        "X_pedestrian.shape"
      ],
      "metadata": {
        "id": "jwB3-k0Zizbe"
      },
      "execution_count": null,
      "outputs": []
    },
    {
      "cell_type": "code",
      "source": [
        "Y_pedestrian.shape"
      ],
      "metadata": {
        "id": "KfFOuLa4i3Ep"
      },
      "execution_count": null,
      "outputs": []
    },
    {
      "cell_type": "code",
      "source": [
        "nopedestrian_hog_accum = []\n",
        "\n",
        "for i  in no_pedestrian:\n",
        "  img_color = mpimg.imread(i)\n",
        "  img_gray = cv2.cvtColor(img_color,cv2.COLOR_BAYER_BG2GRAY)\n",
        "\n",
        "  nopedestrian_hog_feature,nonpedestrian_hog_img  = hog(img_gray,\n",
        "                                              orientations =11,\n",
        "                                              pixels_per_cell= (16,16),\n",
        "                                              cells_per_block=(2,2),\n",
        "                                              transform_sqrt= False,\n",
        "                                              visualize = True,\n",
        "                                              feature_vector= True)\n",
        "\n",
        "  nopedestrian_hog_accum. append (nopedestrian_hog_feature)"
      ],
      "metadata": {
        "id": "diVJLDDMi47W"
      },
      "execution_count": null,
      "outputs": []
    },
    {
      "cell_type": "code",
      "source": [
        "X_nopedestrian = np.vstack(nopedestrian_hog_accum).astype(np.float64)\n",
        "Y_nopedestrian = np.zeros(len(X_nopedestrian))"
      ],
      "metadata": {
        "id": "t82M4IUjkWU4"
      },
      "execution_count": null,
      "outputs": []
    },
    {
      "cell_type": "code",
      "source": [
        "X_nopedestrian.shape"
      ],
      "metadata": {
        "id": "8Vgpe4inkgRV"
      },
      "execution_count": null,
      "outputs": []
    },
    {
      "cell_type": "code",
      "source": [
        "Y_nopedestrian.shape"
      ],
      "metadata": {
        "id": "080SFu04khr8"
      },
      "execution_count": null,
      "outputs": []
    },
    {
      "cell_type": "code",
      "source": [
        "X = np.vstack((X_pedestrian,X_nopedestrian))\n",
        "X.shape"
      ],
      "metadata": {
        "id": "VSxS-r39kkgH"
      },
      "execution_count": null,
      "outputs": []
    },
    {
      "cell_type": "code",
      "source": [
        "Y = np.vstack((Y_pedestrian,Y_nopedestrian))\n",
        "Y.shape"
      ],
      "metadata": {
        "id": "TGYQ_juZk2n_"
      },
      "execution_count": null,
      "outputs": []
    },
    {
      "cell_type": "code",
      "source": [
        "#Se generan los datos de entrenamiento y prueba\n",
        "from sklearn.model_selection import train_test_split\n",
        "X_train,X_test, y_train, y_test = train_test_split(X,y, test_size=0.2,random_state=42)"
      ],
      "metadata": {
        "id": "7Vn_7h2slBf2"
      },
      "execution_count": null,
      "outputs": []
    },
    {
      "cell_type": "code",
      "source": [
        "X_train.shape"
      ],
      "metadata": {
        "id": "eh260NXdlZZH"
      },
      "execution_count": null,
      "outputs": []
    },
    {
      "cell_type": "code",
      "source": [
        "X_test.shape"
      ],
      "metadata": {
        "id": "xfaj9vPRlbui"
      },
      "execution_count": null,
      "outputs": []
    },
    {
      "cell_type": "code",
      "source": [
        "from sklearn.svm import SVC\n",
        "\n",
        "svc_model= SVC()\n",
        "svc_model.fit(X_train, y_train)"
      ],
      "metadata": {
        "id": "4Dueqh4-lwLN"
      },
      "execution_count": null,
      "outputs": []
    },
    {
      "cell_type": "code",
      "source": [
        "y_predict = svc_model.predict(X_test)"
      ],
      "metadata": {
        "id": "oYJyAbkFmBwe"
      },
      "execution_count": null,
      "outputs": []
    },
    {
      "cell_type": "code",
      "source": [
        "from sklearn.metrics import classification_report, confusion_matrix\n",
        "cm = confusion_matrix(y_test,y_predict)\n",
        "sns.heatmap (cm, annot= True , fmt= \"d\")"
      ],
      "metadata": {
        "id": "Hd9gVwp8mIav"
      },
      "execution_count": null,
      "outputs": []
    },
    {
      "cell_type": "code",
      "source": [
        "print (classification_report(y_test, y_predict))"
      ],
      "metadata": {
        "id": "jdcEnyRrmjha"
      },
      "execution_count": null,
      "outputs": []
    },
    {
      "cell_type": "code",
      "source": [
        "param_grid = {'C': [0.1,1,10,100,1000], 'gamma': [1,0.1,0.01,0.001,0.0001], 'kernel':['rbf']}\n"
      ],
      "metadata": {
        "id": "XfTlO2bdmql-"
      },
      "execution_count": null,
      "outputs": []
    },
    {
      "cell_type": "code",
      "source": [
        "from sklearn.model_selection import GridSearchCV\n",
        "\n",
        "grid= GridSearchCV(SVC(),param_grid,refit= True,verbose =4)\n",
        "grid.fit(X_train, y_train)"
      ],
      "metadata": {
        "id": "Uf2dilAUnJ_F"
      },
      "execution_count": null,
      "outputs": []
    },
    {
      "cell_type": "code",
      "source": [
        "grid.best_params_"
      ],
      "metadata": {
        "id": "atszyqRPniV8"
      },
      "execution_count": null,
      "outputs": []
    },
    {
      "cell_type": "code",
      "source": [
        "grid.best_estimator_"
      ],
      "metadata": {
        "id": "LS-xAUjunmgP"
      },
      "execution_count": null,
      "outputs": []
    },
    {
      "cell_type": "code",
      "source": [
        "grid_predictions = grid.predict(X_test)"
      ],
      "metadata": {
        "id": "3bIGsMOCnpgC"
      },
      "execution_count": null,
      "outputs": []
    },
    {
      "cell_type": "code",
      "source": [
        "cm = confusion_matrix(y_test,grid_predictions)\n",
        "sns.heatmap(cm, annot=True, fmt= \"d\")"
      ],
      "metadata": {
        "id": "ytNULiC3nv3A"
      },
      "execution_count": null,
      "outputs": []
    },
    {
      "cell_type": "code",
      "source": [
        "print(classification_report(y_test,grid_predictions))"
      ],
      "metadata": {
        "id": "tH26lmvIoB0s"
      },
      "execution_count": null,
      "outputs": []
    }
  ]
}