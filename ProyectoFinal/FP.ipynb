{
 "cells": [
  {
   "cell_type": "code",
   "execution_count": 1,
   "id": "eac43bc0",
   "metadata": {},
   "outputs": [
    {
     "name": "stdout",
     "output_type": "stream",
     "text": [
      "A1\n"
     ]
    }
   ],
   "source": [
    "print('A1')"
   ]
  },
  {
   "cell_type": "code",
   "execution_count": 2,
   "id": "7730b00b",
   "metadata": {},
   "outputs": [],
   "source": [
    "import socketio\n",
    "import eventlet\n",
    "import numpy as np\n",
    "from flask import Flask\n",
    "from keras.models import load_model\n",
    "import base64\n",
    "from io import BytesIO\n",
    "from PIL import Image\n",
    "import cv2"
   ]
  },
  {
   "cell_type": "code",
   "execution_count": 3,
   "id": "8060087b",
   "metadata": {},
   "outputs": [],
   "source": [
    "sio = socketio.Server()\n",
    "\n",
    "app = Flask(__name__) #'__main__'\n",
    "speed_limit = 10\n",
    "def img_preprocess(img):\n",
    "    img = img[60:135,:,:]\n",
    "    img = cv2.cvtColor(img, cv2.COLOR_RGB2YUV)\n",
    "    img = cv2.GaussianBlur(img, (3, 3), 0)\n",
    "    img = cv2.resize(img, (200, 66))\n",
    "    img = img/255\n",
    "    return img"
   ]
  },
  {
   "cell_type": "code",
   "execution_count": 4,
   "id": "849b91e8",
   "metadata": {},
   "outputs": [],
   "source": [
    "@sio.on('telemetry')\n",
    "def telemetry(sid, data):\n",
    "    speed = float(data['speed'])\n",
    "    image = Image.open(BytesIO(base64.b64decode(data['image'])))\n",
    "    image = np.asarray(image)\n",
    "    image = img_preprocess(image)\n",
    "    image = np.array([image])\n",
    "    steering_angle = float(model.predict(image))\n",
    "    throttle = 1.0 - speed/speed_limit\n",
    "    print('{} {} {}'.format(steering_angle, throttle, speed))\n",
    "    send_control(steering_angle, throttle)"
   ]
  },
  {
   "cell_type": "code",
   "execution_count": 5,
   "id": "c219e413",
   "metadata": {},
   "outputs": [],
   "source": [
    "@sio.on('connect')\n",
    "def connect(sid, environ):\n",
    "    print('Connected')\n",
    "    send_control(0, 0)\n",
    "\n",
    "def send_control(steering_angle, throttle):\n",
    "    sio.emit('steer', data = {\n",
    "        'steering_angle': steering_angle.__str__(),\n",
    "        'throttle': throttle.__str__()\n",
    "    })"
   ]
  },
  {
   "cell_type": "code",
   "execution_count": null,
   "id": "db10e2fc",
   "metadata": {},
   "outputs": [
    {
     "name": "stderr",
     "output_type": "stream",
     "text": [
      "(32436) wsgi starting up on http://0.0.0.0:4567\n",
      "(32436) accepted ('127.0.0.1', 57051)\n",
      "127.0.0.1 - - [24/Jun/2023 22:45:36] \"GET /socket.io/?EIO=4&transport=websocket HTTP/1.1\" 200 0 305.454973\n"
     ]
    }
   ],
   "source": [
    "if __name__ == '__main__':\n",
    "    path = 'C:/Users/egonzalezcal/Documents/EGonzalez/JupiterNotebooks/model.h5'\n",
    "    model = load_model(path)\n",
    "    app = socketio.Middleware(sio, app)\n",
    "    eventlet.wsgi.server(eventlet.listen(('', 4567)), app)"
   ]
  },
  {
   "cell_type": "code",
   "execution_count": null,
   "id": "1e34ac6d",
   "metadata": {},
   "outputs": [],
   "source": []
  }
 ],
 "metadata": {
  "kernelspec": {
   "display_name": "Python 3 (ipykernel)",
   "language": "python",
   "name": "python3"
  },
  "language_info": {
   "codemirror_mode": {
    "name": "ipython",
    "version": 3
   },
   "file_extension": ".py",
   "mimetype": "text/x-python",
   "name": "python",
   "nbconvert_exporter": "python",
   "pygments_lexer": "ipython3",
   "version": "3.10.9"
  }
 },
 "nbformat": 4,
 "nbformat_minor": 5
}
